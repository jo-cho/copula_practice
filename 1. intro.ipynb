{
 "cells": [
  {
   "cell_type": "markdown",
   "metadata": {},
   "source": [
    "Introduction"
   ]
  },
  {
   "cell_type": "markdown",
   "metadata": {},
   "source": [
    "-\tFind a promising pair of stocks (a nice candidate for mean-reversion bets) whose prices are nicely normally distributed. \n",
    "-\tFit them as a joint-normal distribution for some sanity check.\n",
    "-\tThis bivariate Gaussian model says that such co-moves are very unlikely to happen since they are so close to the tails of the distribution, and you better ignore it. \n",
    "-\tThe stocks tend to move downward together more than going upward, and the bivariate Gaussian distribution says it should be symmetric.\n"
   ]
  },
  {
   "cell_type": "markdown",
   "metadata": {},
   "source": [
    "Two major pitfalls of a bivariate normal distribution:\n",
    "1.\tMarginal random variables being normally distributed does not mean they together are jointly-normally distributed.\n",
    "2.\tUnrealistic assumptions: linear correlation of the data from the two legs, no tail-dependence, and upper-lower end symmetry …\n"
   ]
  },
  {
   "cell_type": "markdown",
   "metadata": {},
   "source": [
    "But, \n",
    "-\tA detail-oriented trader tries to capture the non-linear dependencies. \n",
    "-\tBut what if the two stocks are not normally distributed in history, to begin with? What if one stock has an upward drift and it always punches through the 3 standard deviation ceiling of your assumed marginal distribution in the testing set?\n",
    "-\tTo answer the mystery one must understand the concept copula.\n"
   ]
  },
  {
   "cell_type": "markdown",
   "metadata": {},
   "source": [
    "Copula's Advantages:\n",
    "1.\tIt separates the marginal distributions from studying their “relation”, so you don’t need to worry about taking into account all the possible combinations of possible types of univariate distributions.\n",
    "2.\tYou can tune the dependency structure to your own liking, especially the tail dependencies.\n",
    "3.\tYou can work with multiple stocks in a cohort, instead of just a pair.\n",
    "4.\tMuch less crowded compared to other common quant strategies like vanilla distance and cointegration.."
   ]
  },
  {
   "cell_type": "markdown",
   "metadata": {},
   "source": [
    "- The key idea lies in modeling the relation between two random variables’ quantiles to avoid involving idiosyncratic marginal distributions."
   ]
  },
  {
   "cell_type": "markdown",
   "metadata": {},
   "source": [
    "An Example\n",
    "\n",
    "Make the Q-Q (quantile-quantile) plot of two continuous random variables:\n",
    "1. For two continuous random variables with fixed distributions, find their own marginal CDFs (cumulative density functions).\n",
    "2. Sample from the two-random-variable pair multiple times.\n",
    "3. Map the random samples into their quantile domain by their CDFs, you should get two uniformly distributed quantiles data in [0,1]×[0,1].\n",
    "4. Plot the pair’s quantile-quantile data."
   ]
  },
  {
   "cell_type": "markdown",
   "metadata": {},
   "source": [
    "- First, knowing the marginal distribution does not in any way determine this Q-Q plot at all, and this Q-Q plot tells the full dependency structure between the two random variables, it tells us how they are “related”. \n",
    "- Second, we just plotted the samples from a copula according to its copula density $c(u_1,u_2)$, which is generally denoted as c. The denser the dots, the higher the copula density. It is still not the copula itself because copula is the joint cumulative density of quantiles $C(u_1,u_2)$, and is defined in the next section. \n",
    "- Much like when you try to plot a univariate distribution, you sample from its CDF by generating uniformly from $[0,1]$ to plot its PDF, we are doing the same thing but in 2 dimensions."
   ]
  },
  {
   "cell_type": "code",
   "execution_count": 1,
   "metadata": {},
   "outputs": [],
   "source": [
    "import numpy as np\n",
    "import pandas as pd\n",
    "import matplotlib.pyplot as plt\n",
    "import seaborn as sns; sns.set()\n",
    "import pairs_selection as ps\n",
    "import FinanceDataReader as fdr"
   ]
  },
  {
   "cell_type": "code",
   "execution_count": 2,
   "metadata": {},
   "outputs": [
    {
     "data": {
      "text/html": [
       "<div>\n",
       "<style scoped>\n",
       "    .dataframe tbody tr th:only-of-type {\n",
       "        vertical-align: middle;\n",
       "    }\n",
       "\n",
       "    .dataframe tbody tr th {\n",
       "        vertical-align: top;\n",
       "    }\n",
       "\n",
       "    .dataframe thead th {\n",
       "        text-align: right;\n",
       "    }\n",
       "</style>\n",
       "<table border=\"1\" class=\"dataframe\">\n",
       "  <thead>\n",
       "    <tr style=\"text-align: right;\">\n",
       "      <th></th>\n",
       "      <th>현대모비스&amp;현대차</th>\n",
       "      <th>현대차&amp;SK텔레콤</th>\n",
       "      <th>현대차&amp;기아차</th>\n",
       "      <th>현대차&amp;SK</th>\n",
       "      <th>현대차&amp;LG유플러스</th>\n",
       "      <th>한화솔루션&amp;현대차</th>\n",
       "      <th>현대차&amp;고려아연</th>\n",
       "      <th>현대글로비스&amp;현대차</th>\n",
       "      <th>효성&amp;현대차</th>\n",
       "      <th>현대차&amp;현대차2우B</th>\n",
       "      <th>...</th>\n",
       "      <th>코스맥스&amp;한국콜마</th>\n",
       "      <th>현대백화점&amp;코스맥스</th>\n",
       "      <th>코스맥스&amp;신세계인터내셔날</th>\n",
       "      <th>코스맥스&amp;GKL</th>\n",
       "      <th>현대백화점&amp;한국콜마</th>\n",
       "      <th>신세계인터내셔날&amp;한국콜마</th>\n",
       "      <th>한국콜마&amp;GKL</th>\n",
       "      <th>현대백화점&amp;신세계인터내셔날</th>\n",
       "      <th>현대백화점&amp;GKL</th>\n",
       "      <th>GKL&amp;신세계인터내셔날</th>\n",
       "    </tr>\n",
       "    <tr>\n",
       "      <th>Date</th>\n",
       "      <th></th>\n",
       "      <th></th>\n",
       "      <th></th>\n",
       "      <th></th>\n",
       "      <th></th>\n",
       "      <th></th>\n",
       "      <th></th>\n",
       "      <th></th>\n",
       "      <th></th>\n",
       "      <th></th>\n",
       "      <th></th>\n",
       "      <th></th>\n",
       "      <th></th>\n",
       "      <th></th>\n",
       "      <th></th>\n",
       "      <th></th>\n",
       "      <th></th>\n",
       "      <th></th>\n",
       "      <th></th>\n",
       "      <th></th>\n",
       "      <th></th>\n",
       "    </tr>\n",
       "  </thead>\n",
       "  <tbody>\n",
       "    <tr>\n",
       "      <th>2019-01-03</th>\n",
       "      <td>0.020834</td>\n",
       "      <td>0.016036</td>\n",
       "      <td>0.020864</td>\n",
       "      <td>0.030464</td>\n",
       "      <td>0.017926</td>\n",
       "      <td>-0.052218</td>\n",
       "      <td>0.002883</td>\n",
       "      <td>0.046185</td>\n",
       "      <td>0.002830</td>\n",
       "      <td>-0.012228</td>\n",
       "      <td>...</td>\n",
       "      <td>-0.007622</td>\n",
       "      <td>0.001701</td>\n",
       "      <td>-0.007066</td>\n",
       "      <td>-0.017028</td>\n",
       "      <td>0.000517</td>\n",
       "      <td>-0.010581</td>\n",
       "      <td>-0.010980</td>\n",
       "      <td>0.003242</td>\n",
       "      <td>-0.007917</td>\n",
       "      <td>0.016014</td>\n",
       "    </tr>\n",
       "    <tr>\n",
       "      <th>2019-01-04</th>\n",
       "      <td>0.019095</td>\n",
       "      <td>0.017978</td>\n",
       "      <td>-0.016816</td>\n",
       "      <td>0.022382</td>\n",
       "      <td>0.029722</td>\n",
       "      <td>-0.000759</td>\n",
       "      <td>0.013208</td>\n",
       "      <td>0.021652</td>\n",
       "      <td>-0.032657</td>\n",
       "      <td>-0.002165</td>\n",
       "      <td>...</td>\n",
       "      <td>0.014739</td>\n",
       "      <td>0.001284</td>\n",
       "      <td>0.010234</td>\n",
       "      <td>-0.000657</td>\n",
       "      <td>0.004483</td>\n",
       "      <td>0.024136</td>\n",
       "      <td>-0.014703</td>\n",
       "      <td>-0.003203</td>\n",
       "      <td>-0.015428</td>\n",
       "      <td>0.032079</td>\n",
       "    </tr>\n",
       "    <tr>\n",
       "      <th>2019-01-07</th>\n",
       "      <td>-0.011501</td>\n",
       "      <td>0.014115</td>\n",
       "      <td>0.021409</td>\n",
       "      <td>0.003032</td>\n",
       "      <td>0.001695</td>\n",
       "      <td>0.011079</td>\n",
       "      <td>0.021088</td>\n",
       "      <td>-0.023297</td>\n",
       "      <td>0.004501</td>\n",
       "      <td>0.013301</td>\n",
       "      <td>...</td>\n",
       "      <td>0.007130</td>\n",
       "      <td>-0.002999</td>\n",
       "      <td>0.023659</td>\n",
       "      <td>0.022550</td>\n",
       "      <td>-0.003320</td>\n",
       "      <td>-0.029078</td>\n",
       "      <td>0.018405</td>\n",
       "      <td>0.010982</td>\n",
       "      <td>0.009752</td>\n",
       "      <td>-0.005064</td>\n",
       "    </tr>\n",
       "  </tbody>\n",
       "</table>\n",
       "<p>3 rows × 329 columns</p>\n",
       "</div>"
      ],
      "text/plain": [
       "            현대모비스&현대차  현대차&SK텔레콤   현대차&기아차    현대차&SK  현대차&LG유플러스  한화솔루션&현대차  \\\n",
       "Date                                                                          \n",
       "2019-01-03   0.020834   0.016036  0.020864  0.030464    0.017926  -0.052218   \n",
       "2019-01-04   0.019095   0.017978 -0.016816  0.022382    0.029722  -0.000759   \n",
       "2019-01-07  -0.011501   0.014115  0.021409  0.003032    0.001695   0.011079   \n",
       "\n",
       "            현대차&고려아연  현대글로비스&현대차    효성&현대차  현대차&현대차2우B  ...  코스맥스&한국콜마  \\\n",
       "Date                                                    ...              \n",
       "2019-01-03  0.002883    0.046185  0.002830   -0.012228  ...  -0.007622   \n",
       "2019-01-04  0.013208    0.021652 -0.032657   -0.002165  ...   0.014739   \n",
       "2019-01-07  0.021088   -0.023297  0.004501    0.013301  ...   0.007130   \n",
       "\n",
       "            현대백화점&코스맥스  코스맥스&신세계인터내셔날  코스맥스&GKL  현대백화점&한국콜마  신세계인터내셔날&한국콜마  \\\n",
       "Date                                                                         \n",
       "2019-01-03    0.001701      -0.007066 -0.017028    0.000517      -0.010581   \n",
       "2019-01-04    0.001284       0.010234 -0.000657    0.004483       0.024136   \n",
       "2019-01-07   -0.002999       0.023659  0.022550   -0.003320      -0.029078   \n",
       "\n",
       "            한국콜마&GKL  현대백화점&신세계인터내셔날  현대백화점&GKL  GKL&신세계인터내셔날  \n",
       "Date                                                           \n",
       "2019-01-03 -0.010980        0.003242  -0.007917      0.016014  \n",
       "2019-01-04 -0.014703       -0.003203  -0.015428      0.032079  \n",
       "2019-01-07  0.018405        0.010982   0.009752     -0.005064  \n",
       "\n",
       "[3 rows x 329 columns]"
      ]
     },
     "execution_count": 2,
     "metadata": {},
     "output_type": "execute_result"
    }
   ],
   "source": [
    "df_ = pd.read_csv('C:data.csv')\n",
    "df_ = df_.set_index('Date')\n",
    "df_.index = pd.to_datetime(df_.index)\n",
    "ret = df_.pct_change()[1:]\n",
    "n = 5\n",
    "min_samples = 4\n",
    "filtered_spreads = ps.main.main(ret,n,min_samples)\n",
    "filtered_spreads.head(3)"
   ]
  },
  {
   "cell_type": "code",
   "execution_count": 3,
   "metadata": {},
   "outputs": [
    {
     "data": {
      "text/plain": [
       "['현대모비스', '현대차']"
      ]
     },
     "execution_count": 3,
     "metadata": {},
     "output_type": "execute_result"
    }
   ],
   "source": [
    "# choose first pairs\n",
    "\n",
    "pair_name = filtered_spreads.columns[0]\n",
    "pair_name.split('&')"
   ]
  },
  {
   "cell_type": "code",
   "execution_count": 4,
   "metadata": {},
   "outputs": [],
   "source": [
    "stock1 = df_[pair_name.split('&')[0]]\n",
    "stock2 = df_[pair_name.split('&')[1]]\n",
    "spread = filtered_spreads[pair_name]"
   ]
  },
  {
   "cell_type": "code",
   "execution_count": 66,
   "metadata": {},
   "outputs": [
    {
     "data": {
      "text/html": [
       "<div>\n",
       "<style scoped>\n",
       "    .dataframe tbody tr th:only-of-type {\n",
       "        vertical-align: middle;\n",
       "    }\n",
       "\n",
       "    .dataframe tbody tr th {\n",
       "        vertical-align: top;\n",
       "    }\n",
       "\n",
       "    .dataframe thead th {\n",
       "        text-align: right;\n",
       "    }\n",
       "</style>\n",
       "<table border=\"1\" class=\"dataframe\">\n",
       "  <thead>\n",
       "    <tr style=\"text-align: right;\">\n",
       "      <th></th>\n",
       "      <th>first</th>\n",
       "      <th>second</th>\n",
       "    </tr>\n",
       "    <tr>\n",
       "      <th>Date</th>\n",
       "      <th></th>\n",
       "      <th></th>\n",
       "    </tr>\n",
       "  </thead>\n",
       "  <tbody>\n",
       "    <tr>\n",
       "      <th>2019-01-03</th>\n",
       "      <td>0.037838</td>\n",
       "      <td>0.021930</td>\n",
       "    </tr>\n",
       "    <tr>\n",
       "      <th>2019-01-04</th>\n",
       "      <td>0.039062</td>\n",
       "      <td>0.025751</td>\n",
       "    </tr>\n",
       "    <tr>\n",
       "      <th>2019-01-07</th>\n",
       "      <td>-0.005013</td>\n",
       "      <td>0.008368</td>\n",
       "    </tr>\n",
       "    <tr>\n",
       "      <th>2019-01-08</th>\n",
       "      <td>-0.027708</td>\n",
       "      <td>-0.008299</td>\n",
       "    </tr>\n",
       "    <tr>\n",
       "      <th>2019-01-09</th>\n",
       "      <td>0.049223</td>\n",
       "      <td>0.029289</td>\n",
       "    </tr>\n",
       "    <tr>\n",
       "      <th>...</th>\n",
       "      <td>...</td>\n",
       "      <td>...</td>\n",
       "    </tr>\n",
       "    <tr>\n",
       "      <th>2021-02-22</th>\n",
       "      <td>0.004666</td>\n",
       "      <td>-0.002066</td>\n",
       "    </tr>\n",
       "    <tr>\n",
       "      <th>2021-02-23</th>\n",
       "      <td>0.006192</td>\n",
       "      <td>0.012422</td>\n",
       "    </tr>\n",
       "    <tr>\n",
       "      <th>2021-02-24</th>\n",
       "      <td>-0.046154</td>\n",
       "      <td>-0.038855</td>\n",
       "    </tr>\n",
       "    <tr>\n",
       "      <th>2021-02-25</th>\n",
       "      <td>0.014516</td>\n",
       "      <td>0.042553</td>\n",
       "    </tr>\n",
       "    <tr>\n",
       "      <th>2021-02-26</th>\n",
       "      <td>-0.036566</td>\n",
       "      <td>-0.032653</td>\n",
       "    </tr>\n",
       "  </tbody>\n",
       "</table>\n",
       "<p>531 rows × 2 columns</p>\n",
       "</div>"
      ],
      "text/plain": [
       "               first    second\n",
       "Date                          \n",
       "2019-01-03  0.037838  0.021930\n",
       "2019-01-04  0.039062  0.025751\n",
       "2019-01-07 -0.005013  0.008368\n",
       "2019-01-08 -0.027708 -0.008299\n",
       "2019-01-09  0.049223  0.029289\n",
       "...              ...       ...\n",
       "2021-02-22  0.004666 -0.002066\n",
       "2021-02-23  0.006192  0.012422\n",
       "2021-02-24 -0.046154 -0.038855\n",
       "2021-02-25  0.014516  0.042553\n",
       "2021-02-26 -0.036566 -0.032653\n",
       "\n",
       "[531 rows x 2 columns]"
      ]
     },
     "execution_count": 66,
     "metadata": {},
     "output_type": "execute_result"
    }
   ],
   "source": [
    "bi_stock = pd.concat([stock1,stock2], axis=1)\n",
    "bi_ret = bi_stock.pct_change().iloc[1:,:]\n",
    "bi_ret = bi_ret.rename(columns={pair_name.split('&')[0]:'first',pair_name.split('&')[1]:'second'})\n",
    "bi_ret"
   ]
  },
  {
   "cell_type": "code",
   "execution_count": 67,
   "metadata": {},
   "outputs": [],
   "source": [
    "from copulas import bivariate, multivariate"
   ]
  },
  {
   "cell_type": "code",
   "execution_count": 69,
   "metadata": {},
   "outputs": [],
   "source": [
    "copula1 = multivariate.GaussianMultivariate()\n",
    "copula1.fit(bi_ret)"
   ]
  },
  {
   "cell_type": "code",
   "execution_count": 77,
   "metadata": {},
   "outputs": [
    {
     "data": {
      "text/html": [
       "<div>\n",
       "<style scoped>\n",
       "    .dataframe tbody tr th:only-of-type {\n",
       "        vertical-align: middle;\n",
       "    }\n",
       "\n",
       "    .dataframe tbody tr th {\n",
       "        vertical-align: top;\n",
       "    }\n",
       "\n",
       "    .dataframe thead th {\n",
       "        text-align: right;\n",
       "    }\n",
       "</style>\n",
       "<table border=\"1\" class=\"dataframe\">\n",
       "  <thead>\n",
       "    <tr style=\"text-align: right;\">\n",
       "      <th></th>\n",
       "      <th>first</th>\n",
       "      <th>second</th>\n",
       "    </tr>\n",
       "  </thead>\n",
       "  <tbody>\n",
       "    <tr>\n",
       "      <th>0</th>\n",
       "      <td>0.024159</td>\n",
       "      <td>0.017503</td>\n",
       "    </tr>\n",
       "    <tr>\n",
       "      <th>1</th>\n",
       "      <td>-0.023763</td>\n",
       "      <td>-0.039895</td>\n",
       "    </tr>\n",
       "    <tr>\n",
       "      <th>2</th>\n",
       "      <td>-0.008845</td>\n",
       "      <td>0.007335</td>\n",
       "    </tr>\n",
       "    <tr>\n",
       "      <th>3</th>\n",
       "      <td>0.010891</td>\n",
       "      <td>0.020698</td>\n",
       "    </tr>\n",
       "    <tr>\n",
       "      <th>4</th>\n",
       "      <td>-0.011363</td>\n",
       "      <td>-0.011152</td>\n",
       "    </tr>\n",
       "    <tr>\n",
       "      <th>...</th>\n",
       "      <td>...</td>\n",
       "      <td>...</td>\n",
       "    </tr>\n",
       "    <tr>\n",
       "      <th>995</th>\n",
       "      <td>0.009225</td>\n",
       "      <td>-0.002133</td>\n",
       "    </tr>\n",
       "    <tr>\n",
       "      <th>996</th>\n",
       "      <td>0.013873</td>\n",
       "      <td>0.029033</td>\n",
       "    </tr>\n",
       "    <tr>\n",
       "      <th>997</th>\n",
       "      <td>0.009662</td>\n",
       "      <td>0.033897</td>\n",
       "    </tr>\n",
       "    <tr>\n",
       "      <th>998</th>\n",
       "      <td>0.002385</td>\n",
       "      <td>0.017086</td>\n",
       "    </tr>\n",
       "    <tr>\n",
       "      <th>999</th>\n",
       "      <td>0.000962</td>\n",
       "      <td>-0.009302</td>\n",
       "    </tr>\n",
       "  </tbody>\n",
       "</table>\n",
       "<p>1000 rows × 2 columns</p>\n",
       "</div>"
      ],
      "text/plain": [
       "        first    second\n",
       "0    0.024159  0.017503\n",
       "1   -0.023763 -0.039895\n",
       "2   -0.008845  0.007335\n",
       "3    0.010891  0.020698\n",
       "4   -0.011363 -0.011152\n",
       "..        ...       ...\n",
       "995  0.009225 -0.002133\n",
       "996  0.013873  0.029033\n",
       "997  0.009662  0.033897\n",
       "998  0.002385  0.017086\n",
       "999  0.000962 -0.009302\n",
       "\n",
       "[1000 rows x 2 columns]"
      ]
     },
     "execution_count": 77,
     "metadata": {},
     "output_type": "execute_result"
    }
   ],
   "source": [
    "sampled = copula1.sample(1_000)\n",
    "sampled"
   ]
  },
  {
   "cell_type": "code",
   "execution_count": 81,
   "metadata": {},
   "outputs": [
    {
     "data": {
      "image/png": "[encoded data removed]",
      "text/plain": [
       "<Figure size 432x288 with 1 Axes>"
      ]
     },
     "metadata": {},
     "output_type": "display_data"
    }
   ],
   "source": [
    "from copulas.visualization import scatter_2d, compare_2d\n",
    "\n",
    "# GAUSSIAN BIVARIATE\n",
    "compare_2d(bi_ret, sampled);"
   ]
  },
  {
   "cell_type": "code",
   "execution_count": 83,
   "metadata": {},
   "outputs": [
    {
     "ename": "ValueError",
     "evalue": "Marginal value out of bounds.",
     "output_type": "error",
     "traceback": [
      "\u001b[1;31m---------------------------------------------------------------------------\u001b[0m",
      "\u001b[1;31mValueError\u001b[0m                                Traceback (most recent call last)",
      "\u001b[1;32m<ipython-input-83-a567c966864f>\u001b[0m in \u001b[0;36m<module>\u001b[1;34m\u001b[0m\n\u001b[0;32m      1\u001b[0m \u001b[0mcopula2\u001b[0m \u001b[1;33m=\u001b[0m \u001b[0mbivariate\u001b[0m\u001b[1;33m.\u001b[0m\u001b[0mFrank\u001b[0m\u001b[1;33m(\u001b[0m\u001b[1;33m)\u001b[0m\u001b[1;33m\u001b[0m\u001b[1;33m\u001b[0m\u001b[0m\n\u001b[1;32m----> 2\u001b[1;33m \u001b[0mcopula2\u001b[0m\u001b[1;33m.\u001b[0m\u001b[0mfit\u001b[0m\u001b[1;33m(\u001b[0m\u001b[0mbi_ret\u001b[0m\u001b[1;33m.\u001b[0m\u001b[0mto_numpy\u001b[0m\u001b[1;33m(\u001b[0m\u001b[1;33m)\u001b[0m\u001b[1;33m)\u001b[0m\u001b[1;33m\u001b[0m\u001b[1;33m\u001b[0m\u001b[0m\n\u001b[0m",
      "\u001b[1;32m~\\anaconda3\\envs\\py37\\lib\\site-packages\\copulas\\bivariate\\base.py\u001b[0m in \u001b[0;36mfit\u001b[1;34m(self, X)\u001b[0m\n\u001b[0;32m    175\u001b[0m         \"\"\"\n\u001b[0;32m    176\u001b[0m         \u001b[0mU\u001b[0m\u001b[1;33m,\u001b[0m \u001b[0mV\u001b[0m \u001b[1;33m=\u001b[0m \u001b[0msplit_matrix\u001b[0m\u001b[1;33m(\u001b[0m\u001b[0mX\u001b[0m\u001b[1;33m)\u001b[0m\u001b[1;33m\u001b[0m\u001b[1;33m\u001b[0m\u001b[0m\n\u001b[1;32m--> 177\u001b[1;33m         \u001b[0mself\u001b[0m\u001b[1;33m.\u001b[0m\u001b[0mcheck_marginal\u001b[0m\u001b[1;33m(\u001b[0m\u001b[0mU\u001b[0m\u001b[1;33m)\u001b[0m\u001b[1;33m\u001b[0m\u001b[1;33m\u001b[0m\u001b[0m\n\u001b[0m\u001b[0;32m    178\u001b[0m         \u001b[0mself\u001b[0m\u001b[1;33m.\u001b[0m\u001b[0mcheck_marginal\u001b[0m\u001b[1;33m(\u001b[0m\u001b[0mV\u001b[0m\u001b[1;33m)\u001b[0m\u001b[1;33m\u001b[0m\u001b[1;33m\u001b[0m\u001b[0m\n\u001b[0;32m    179\u001b[0m         \u001b[0mself\u001b[0m\u001b[1;33m.\u001b[0m\u001b[0mtau\u001b[0m \u001b[1;33m=\u001b[0m \u001b[0mstats\u001b[0m\u001b[1;33m.\u001b[0m\u001b[0mkendalltau\u001b[0m\u001b[1;33m(\u001b[0m\u001b[0mU\u001b[0m\u001b[1;33m,\u001b[0m \u001b[0mV\u001b[0m\u001b[1;33m)\u001b[0m\u001b[1;33m[\u001b[0m\u001b[1;36m0\u001b[0m\u001b[1;33m]\u001b[0m\u001b[1;33m\u001b[0m\u001b[1;33m\u001b[0m\u001b[0m\n",
      "\u001b[1;32m~\\anaconda3\\envs\\py37\\lib\\site-packages\\copulas\\bivariate\\base.py\u001b[0m in \u001b[0;36mcheck_marginal\u001b[1;34m(self, u)\u001b[0m\n\u001b[0;32m    151\u001b[0m         \"\"\"\n\u001b[0;32m    152\u001b[0m         \u001b[1;32mif\u001b[0m \u001b[0mmin\u001b[0m\u001b[1;33m(\u001b[0m\u001b[0mu\u001b[0m\u001b[1;33m)\u001b[0m \u001b[1;33m<\u001b[0m \u001b[1;36m0.0\u001b[0m \u001b[1;32mor\u001b[0m \u001b[0mmax\u001b[0m\u001b[1;33m(\u001b[0m\u001b[0mu\u001b[0m\u001b[1;33m)\u001b[0m \u001b[1;33m>\u001b[0m \u001b[1;36m1.0\u001b[0m\u001b[1;33m:\u001b[0m\u001b[1;33m\u001b[0m\u001b[1;33m\u001b[0m\u001b[0m\n\u001b[1;32m--> 153\u001b[1;33m             \u001b[1;32mraise\u001b[0m \u001b[0mValueError\u001b[0m\u001b[1;33m(\u001b[0m\u001b[1;34m\"Marginal value out of bounds.\"\u001b[0m\u001b[1;33m)\u001b[0m\u001b[1;33m\u001b[0m\u001b[1;33m\u001b[0m\u001b[0m\n\u001b[0m\u001b[0;32m    154\u001b[0m \u001b[1;33m\u001b[0m\u001b[0m\n\u001b[0;32m    155\u001b[0m         \u001b[0memperical_cdf\u001b[0m \u001b[1;33m=\u001b[0m \u001b[0mnp\u001b[0m\u001b[1;33m.\u001b[0m\u001b[0msort\u001b[0m\u001b[1;33m(\u001b[0m\u001b[0mu\u001b[0m\u001b[1;33m)\u001b[0m\u001b[1;33m\u001b[0m\u001b[1;33m\u001b[0m\u001b[0m\n",
      "\u001b[1;31mValueError\u001b[0m: Marginal value out of bounds."
     ]
    }
   ],
   "source": [
    "copula2 = bivariate.Frank()\n",
    "copula2.fit(bi_ret.to_numpy())"
   ]
  },
  {
   "cell_type": "code",
   "execution_count": null,
   "metadata": {},
   "outputs": [],
   "source": []
  },
  {
   "cell_type": "markdown",
   "metadata": {},
   "source": [
    "Here are a few key results:\n",
    "\n",
    "1. Upper tail dependence means the two random variables are likely to have extremely large values together. For instance, when working with returns series, upper tail dependence implies that the two stocks are likely to have large gains together.\n",
    "2. Lower tail dependence means the two random variables are likely to have small values together. This is much stronger in general compared to upper tail dependence, because stocks are more likely to go down together than going up.\n",
    "3. Frank and Gaussian copulas do not have tail dependencies at all. And Gaussian copula infamously contributed to the 2008 financial crisis by pricing CDOs exactly for this reason.\n",
    "4. Frank copula has a stronger dependence in the center compared to Gaussian.\n",
    "5. For Value-at-Risk calculations, Gaussian copula is overly optimistic and Gumbel is too pessimistic [Kole et al., 2007].\n",
    "6. Copulas with upper tail dependence: Gumbel, Joe, N13, N14, Student-t.\n",
    "7. Copulas with lower tail dependence: Clayton, N14 (weaker than upper tail), Student-t.\n",
    "8. Copulas with no tail dependence: Gaussian, Frank."
   ]
  },
  {
   "cell_type": "markdown",
   "metadata": {},
   "source": [
    "Now we can look back at the mystery at the very beginning of the article on what went wrong: \n",
    "- The bivariate Gaussian distribution assumes \n",
    "    - 1. All marginal random variables are Gaussian; \n",
    "    - 2. The copula that relates the two Gaussian marginals is also Gaussian. A Gaussian copula does not have any tail dependence. What’s worse, it requires symmetry on both upward co-moves and downward moves. \n",
    "    \n",
    "Those assumptions are very rigid, and they just can’t compete with dedicated copula models for flexibility."
   ]
  },
  {
   "cell_type": "code",
   "execution_count": null,
   "metadata": {},
   "outputs": [],
   "source": []
  }
 ],
 "metadata": {
  "kernelspec": {
   "display_name": "Python 3",
   "language": "python",
   "name": "python3"
  },
  "language_info": {
   "codemirror_mode": {
    "name": "ipython",
    "version": 3
   },
   "file_extension": ".py",
   "mimetype": "text/x-python",
   "name": "python",
   "nbconvert_exporter": "python",
   "pygments_lexer": "ipython3",
   "version": "3.7.7"
  }
 },
 "nbformat": 4,
 "nbformat_minor": 4
}
